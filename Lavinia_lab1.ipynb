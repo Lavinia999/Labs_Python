{
 "cells": [
  {
   "cell_type": "markdown",
   "metadata": {},
   "source": [
    "01/03/2022"
   ]
  },
  {
   "cell_type": "markdown",
   "metadata": {},
   "source": [
    "<h1>Laboratorul nr.1\n",
    "    Spinu Lavinia\n",
    "<h2>If"
   ]
  },
  {
   "cell_type": "markdown",
   "metadata": {},
   "source": [
    "1. Andrei primeşte într-o zi trei note, nu toate bune. Se hotărăşte ca, dacă ultima notă este cel puţin 8, să le spună părinţilor toate notele primite iar dacă este mai mică decât 8, să le comunice doar cea mai mare notă dintre primele două. Introduceţi notele luate şi afişaţi notele pe care le va comunica părinţilor. Exemple : Date de intrare 6 9 9 Date de ieşire 6 9 9 ; Date de intrare 8 5 7 Date de ieşire 8. \n"
   ]
  },
  {
   "cell_type": "code",
   "execution_count": 4,
   "metadata": {},
   "outputs": [
    {
     "name": "stdout",
     "output_type": "stream",
     "text": [
      "Introduceti notele lui Andrei:5,6,8\n",
      "Notele sunt: 5 6 8\n"
     ]
    }
   ],
   "source": [
    "#1.\n",
    "a,b,c = [int(x) for x in input(\"Introduceti notele lui Andrei:\").split(\",\")]\n",
    "if c>= 8:\n",
    "    print(\"Notele sunt:\",a,b,c)\n",
    "elif c<8:\n",
    "    if a>b:\n",
    "        print(\"Nota este:\",a)\n",
    "    else:\n",
    "        print(\"Nota este:\",b)"
   ]
  },
  {
   "cell_type": "markdown",
   "metadata": {},
   "source": [
    "2.Se consideră trei numere întregi. Dacă toate sunt pozitive, să se afişeze numărul mai mare dintre al doilea şi al treilea număr, în caz contrar să se calculeze suma primelor două numere. Exemple: Date de intrare 45 23 100 date de ieşire 100 ; Date de intrare 34 -25 10 Date de ieşire 9. "
   ]
  },
  {
   "cell_type": "code",
   "execution_count": 10,
   "metadata": {},
   "outputs": [
    {
     "name": "stdout",
     "output_type": "stream",
     "text": [
      "Introduceti 3 numere intregi:5,7,8\n",
      "8\n"
     ]
    }
   ],
   "source": [
    "#2.\n",
    "a,b,c = [int(x) for x in input(\"Introduceti 3 numere intregi:\").split(\",\")]\n",
    "if (a>0 and b>0 and c>0):\n",
    "    if b>c:\n",
    "        print(b)\n",
    "    else:\n",
    "        print(c)\n",
    "else:\n",
    "    print(a+b)"
   ]
  },
  {
   "cell_type": "markdown",
   "metadata": {},
   "source": [
    "3. Să se afişeze cel mai mare număr par dintre doua numere introduse în calculator. Exemple : Date de intrare 23 45 Date de ieşire nu exista numar par; Date de intrare 28 14 Date de ieşire 28 ; Date de intrare 77 4 Date de ieşire 4. "
   ]
  },
  {
   "cell_type": "code",
   "execution_count": 11,
   "metadata": {},
   "outputs": [
    {
     "name": "stdout",
     "output_type": "stream",
     "text": [
      "Introduceti 2 numere:7,6\n",
      "6\n"
     ]
    }
   ],
   "source": [
    "#3. \n",
    "a,b = [int(x) for x in input(\"Introduceti 2 numere:\").split(\",\")]\n",
    "if a%2==0 and b%2==0:\n",
    "    print(a) if a>b else print(b) #short way to write the line\n",
    "elif a%2!=0 and b%2!=0:\n",
    "    print(\"Nu exista numar par\")\n",
    "elif a%2==0 and b%2!=0:\n",
    "    print(a)\n",
    "elif a%2!=0 and b%2==0:\n",
    "    print(b)\n",
    "        "
   ]
  },
  {
   "cell_type": "markdown",
   "metadata": {},
   "source": [
    "4. Pe o masă de biliard sunt bile albe, roşii şi verzi. Din fiecare culoare sunt bile de două dimensiuni: mari şi mici. Să se afişeze câte bile sunt în total pe masa de biliard. Un jucător vrea să-i spuneţi care bile sunt mai multe , cele mici sau cele mari, afişând numărul lor. De ce culoare sunt bilele cele mai numeroase? Precizaţi numărul lor. Exemplu: Date de intrare Nr. bile albe mici: 2 Nr. bile albe mari: 3 Nr. bile rosii mici: 1 Nr. bile rosii mari: 4 Nr. bile verzi mici: 3 Nr. bile verzi mari: 4 Date de ieşire Totalul bilelor: 17 Mari: 11 bile Verzi: 7 bile\n"
   ]
  },
  {
   "cell_type": "code",
   "execution_count": 12,
   "metadata": {},
   "outputs": [
    {
     "name": "stdout",
     "output_type": "stream",
     "text": [
      "Dati nr de bile albe mici:3\n",
      "Dati nr de bile albe mari:4\n",
      "Dati nr de bile rosii mici:6\n",
      "Dati nr de bile rosii mari:2\n",
      "Dati nr de bile verzi mici:3\n",
      "Dati nr de bile versi mari:4\n",
      "Sunt 22 bile pe masa.\n",
      "Sunt mai multe bile mici:  12\n",
      "Sunt mai multe bile rosii: 8\n"
     ]
    }
   ],
   "source": [
    "#4.\n",
    "a = int(input(\"Dati nr de bile albe mici:\"))\n",
    "b = int(input(\"Dati nr de bile albe mari:\"))\n",
    "c = int(input(\"Dati nr de bile rosii mici:\"))\n",
    "d = int(input(\"Dati nr de bile rosii mari:\"))\n",
    "e = int(input(\"Dati nr de bile verzi mici:\"))\n",
    "f = int(input(\"Dati nr de bile versi mari:\"))\n",
    "#Calculam cate bile sunt in total\n",
    "print(\"Sunt\", a+b+c+d+e+f, \"bile pe masa.\")\n",
    "\n",
    "mici = a+c+e\n",
    "mari = b+d+f\n",
    "print(\"Sunt mai multe bile mici: \", mici) if mici>mari else print(\"Sunt mai multe bile mari: \",mari)\n",
    "alb = a+b\n",
    "rosu = c+d\n",
    "verde = e+f\n",
    "print(\"Sunt mai multe bile albe:\", alb) if alb>rosu else print(\"Sunt mai multe bile rosii:\", rosu) if rosu>verde else print(\"Sunt mai multe bile verzi:\", verde)"
   ]
  },
  {
   "cell_type": "markdown",
   "metadata": {},
   "source": [
    "5. La ferma de găini Copanul este democraţie. Fiecare găină primeşte exact acelaşi număr de boabe de porumb. Cele care nu pot fi împărţite vor fi primite de curcanul Clapon. Să se spună cine a primit mai multe boabe şi cu cât. În caz de egalitate, se va afişa numărul de boabe primite şi cuvântul \"egalitate\". Datele se vor citi în următoarea ordine: numărul de găini, iar dupa aceea numărul de boabe de porumb. Exemplu: Date de intrare 100 4050 Date de ieşire: Curcanul mai mult cu 10 boabe."
   ]
  },
  {
   "cell_type": "code",
   "execution_count": 13,
   "metadata": {},
   "outputs": [
    {
     "name": "stdout",
     "output_type": "stream",
     "text": [
      "Introduceti nr de vietati si nr de boabe:23, 562\n",
      "Gainele au primit cu 14.434782608695652 mai multe boabe\n"
     ]
    }
   ],
   "source": [
    "#5\n",
    "a,b = [int(x) for x in input(\"Introduceti nr de vietati si nr de boabe:\").split(\",\")]\n",
    "cat = b/a\n",
    "rest = b%a\n",
    "if cat>rest:\n",
    "    print(\"Gainele au primit cu\", cat-rest, \"mai multe boabe\")\n",
    "else:\n",
    "    print(\"Curcanul a primit cu\", rest-cat, \"mai multe boabe\")"
   ]
  },
  {
   "cell_type": "markdown",
   "metadata": {},
   "source": [
    "<h2>While for"
   ]
  },
  {
   "cell_type": "markdown",
   "metadata": {},
   "source": [
    "1. Să se afişeze tabla înmulţirii cu n. Exemplu : Date de intrare n=5 date de ieşire 1x5=5 2x5=10 3x5=15 4x5=20 5x5=25 6x5=30 7x5=35 8x5=40 9x5=45 10x5=50."
   ]
  },
  {
   "cell_type": "code",
   "execution_count": 15,
   "metadata": {},
   "outputs": [
    {
     "name": "stdout",
     "output_type": "stream",
     "text": [
      "Dati un nr intreg: 9\n",
      "1 * 9 = 9\n",
      "2 * 9 = 18\n",
      "3 * 9 = 27\n",
      "4 * 9 = 36\n",
      "5 * 9 = 45\n",
      "6 * 9 = 54\n",
      "7 * 9 = 63\n",
      "8 * 9 = 72\n",
      "9 * 9 = 81\n",
      "10 * 9 = 90\n"
     ]
    }
   ],
   "source": [
    "#1. \n",
    "n = int(input(\"Dati un nr intreg: \"))\n",
    "for i in range(1, 11):\n",
    "    print(i, '*',n,'=',i*n)"
   ]
  },
  {
   "cell_type": "markdown",
   "metadata": {},
   "source": [
    "2. Se dă un număr. Să se scrie, dacă se poate, ca sumă de două numere impare. Exemple : date de intrare 24 Date de ieşire 24=1+23 24=3+21 24=5+19 24=7+17 24=9+15 24=11+13 ; Date de intrare 33 Date de ieşire Nu se poate. "
   ]
  },
  {
   "cell_type": "code",
   "execution_count": 16,
   "metadata": {},
   "outputs": [
    {
     "name": "stdout",
     "output_type": "stream",
     "text": [
      "Dati un numar:6\n",
      "1 + 5 = 6\n",
      "3 + 3 = 6\n",
      "5 + 1 = 6\n"
     ]
    }
   ],
   "source": [
    "#2. \n",
    "n = int(input(\"Dati un numar:\"))\n",
    "for i in range(1,n):\n",
    "    for j in range(1,n):\n",
    "        if (i+j==n and i%2!=0 and j%2!=0):\n",
    "            print(i,'+',j,'=',n)"
   ]
  },
  {
   "cell_type": "markdown",
   "metadata": {},
   "source": [
    "3. Se dă un număr. Să se scrie, dacă este posibil, ca sumă de două numere consecutive. Exemple : Date de intrare 5 Date de ieşire 5=2+3 ; Date de intrare 6 Date de ieşire Nu se poate. "
   ]
  },
  {
   "cell_type": "code",
   "execution_count": 17,
   "metadata": {},
   "outputs": [
    {
     "name": "stdout",
     "output_type": "stream",
     "text": [
      "Dati un numar:9\n",
      "4 + 2\n"
     ]
    }
   ],
   "source": [
    "#3. \n",
    "n = int(input(\"Dati un numar:\"))\n",
    "if n%2:\n",
    "    print(int((n-1)/2),'+',int((n-1)/3))\n",
    "else:\n",
    "    print(\"Nu se poate\")"
   ]
  },
  {
   "cell_type": "markdown",
   "metadata": {},
   "source": [
    "4. Dându-se un număr natural n, să se găsească toate posibilităţile de scriere a acestui număr ca sumă de numere consecutive. Exemplu : Date de intrare 15 Date de ieşire 15=1+2+3+4+5 15=4+5+6 15=7+8."
   ]
  },
  {
   "cell_type": "code",
   "execution_count": 18,
   "metadata": {},
   "outputs": [
    {
     "name": "stdout",
     "output_type": "stream",
     "text": [
      "Dati un numar: 129\n",
      "129 = 19 + 20 + 21 + 22 + 23 + 24"
     ]
    }
   ],
   "source": [
    "#4. \n",
    "n = int(input(\"Dati un numar: \"))\n",
    "def consecutive(z, a):\n",
    "    print (a, end = \"\")\n",
    "    a += 1\n",
    "    for x in range(a, z + 1):\n",
    "        print (\" +\", x, end = \"\")\n",
    " \n",
    "def afisare(n):\n",
    "    for z in range(1, n):\n",
    "        for a in range(0, z):\n",
    "            if 2 * n== (z - a) * (z + a + 1):\n",
    "                print (n,\"= \", end = \"\")\n",
    "                consecutive(z, a + 1)\n",
    "                return\n",
    "    print (\"-1\")\n",
    "afisare(n)"
   ]
  },
  {
   "cell_type": "markdown",
   "metadata": {},
   "source": [
    "5. Să se afişeze toţi divizorii unui număr natural dat. Exemplu : Date de intrare 12 Date de ieşire 1 2 3 4 6 12."
   ]
  },
  {
   "cell_type": "code",
   "execution_count": 19,
   "metadata": {},
   "outputs": [
    {
     "name": "stdout",
     "output_type": "stream",
     "text": [
      "Introduceti un numar:12\n",
      "Divizorii sunt:\n",
      "1\n",
      "2\n",
      "3\n",
      "4\n",
      "6\n",
      "12\n"
     ]
    }
   ],
   "source": [
    "#5. \n",
    "n=int(input(\"Introduceti un numar:\"))\n",
    "print(\"Divizorii sunt:\")\n",
    "for i in range(1,n+1):\n",
    "    if(n%i==0):\n",
    "        print(i)"
   ]
  },
  {
   "cell_type": "markdown",
   "metadata": {},
   "source": [
    "6.Se introduce un număr. Să se verifice dacă este număr prim. \n",
    "Exemple: Date de intrare 23 date de ieşire Prim ; Date de intrare 45 Date de ieşire Nu este prim. "
   ]
  },
  {
   "cell_type": "code",
   "execution_count": 20,
   "metadata": {},
   "outputs": [
    {
     "name": "stdout",
     "output_type": "stream",
     "text": [
      "Introduceti un numar:7\n",
      "7  este numar prim.\n"
     ]
    }
   ],
   "source": [
    "#6. \n",
    "n = int(input(\"Introduceti un numar:\"))\n",
    "x = False\n",
    "if n > 1:\n",
    "    for i in range(2, n):\n",
    "        if (n%i)==0:\n",
    "            x = True\n",
    "            break\n",
    "if x:\n",
    "    print(n, \" nu este numar prim.\")\n",
    "else:\n",
    "    print(n, \" este numar prim.\")"
   ]
  },
  {
   "cell_type": "markdown",
   "metadata": {},
   "source": [
    "7. Să se afişeze primele n numere prime. Exemplu: Date de intrare n=6 Date de ieşire 2 3 5 7 11 13  "
   ]
  },
  {
   "cell_type": "code",
   "execution_count": 21,
   "metadata": {},
   "outputs": [
    {
     "name": "stdout",
     "output_type": "stream",
     "text": [
      "Introduceti numarul de numere prime:10\n",
      "3 5 7 9 "
     ]
    }
   ],
   "source": [
    "#7.\n",
    "n = int(input(\"Introduceti numarul de numere prime:\"))\n",
    "def prim(n):\n",
    "    if(n==1 or n==0):\n",
    "        return False\n",
    "    for i in range(2,n):\n",
    "        if(n%i==0):\n",
    "            return False\n",
    "        return True\n",
    "for i in range(1, n+1):\n",
    "    if(prim(i)):\n",
    "        print(i, end=\" \")"
   ]
  },
  {
   "cell_type": "markdown",
   "metadata": {},
   "source": [
    "8. Să se calculeze:<br> $7+14+21+28+…+98$<br> $3*6*9*12*…*33 $"
   ]
  },
  {
   "cell_type": "code",
   "execution_count": 22,
   "metadata": {},
   "outputs": [
    {
     "name": "stdout",
     "output_type": "stream",
     "text": [
      "Suma este 9672\n"
     ]
    }
   ],
   "source": [
    "#8.1 Să se calculeze 7+14+21+28+…+98\n",
    "s = 0\n",
    "for i in range (6, 99):\n",
    "    s = s + i*2\n",
    "print(\"Suma este\", s);"
   ]
  },
  {
   "cell_type": "code",
   "execution_count": 23,
   "metadata": {},
   "outputs": [
    {
     "name": "stdout",
     "output_type": "stream",
     "text": [
      "Suma este 1120\n"
     ]
    }
   ],
   "source": [
    "#8.2 Să se calculeze 3*6*9*12*…*33\n",
    "s = 0\n",
    "for i in range (2, 34):\n",
    "    s = s + i*2\n",
    "print(\"Suma este\", s);"
   ]
  },
  {
   "cell_type": "markdown",
   "metadata": {},
   "source": [
    "9.Sa se calculeze sumele:"
   ]
  },
  {
   "cell_type": "markdown",
   "metadata": {},
   "source": [
    "10. $s1=1+2+3+…+n$"
   ]
  },
  {
   "cell_type": "code",
   "execution_count": 24,
   "metadata": {},
   "outputs": [
    {
     "name": "stdout",
     "output_type": "stream",
     "text": [
      "Introduceti un numarul natural: 6\n",
      "Suma este  15\n"
     ]
    }
   ],
   "source": [
    "#10. \n",
    "n = int(input(\"Introduceti un numarul natural: \"));\n",
    "s1 = 0\n",
    "for i in range (1, n):\n",
    "    s1 += i;\n",
    "print(\"Suma este \", s1);"
   ]
  },
  {
   "cell_type": "markdown",
   "metadata": {},
   "source": [
    "11. $s2=1*2+2*3+3*4+…+(n-1)*n$"
   ]
  },
  {
   "cell_type": "code",
   "execution_count": 25,
   "metadata": {},
   "outputs": [
    {
     "name": "stdout",
     "output_type": "stream",
     "text": [
      "Introduceti un numarul natural: 4\n",
      "Suma este  20\n"
     ]
    }
   ],
   "source": [
    "#11. \n",
    "n = int(input(\"Introduceti un numarul natural: \"));\n",
    "s2 = 0\n",
    "i = 1\n",
    "while i<n:\n",
    "    s2 = s2 + i*(i+1)\n",
    "    i = i+1\n",
    "print(\"Suma este \", s2)\n",
    "    "
   ]
  },
  {
   "cell_type": "markdown",
   "metadata": {},
   "source": [
    "12. $s3=1+1*2+1*2*3+…+1*2*3*…*n $"
   ]
  },
  {
   "cell_type": "code",
   "execution_count": 26,
   "metadata": {},
   "outputs": [
    {
     "name": "stdout",
     "output_type": "stream",
     "text": [
      "Introduceti un numarul natural: 3\n",
      "Suma este  9\n"
     ]
    }
   ],
   "source": [
    "#12. \n",
    "s3 = 0\n",
    "fact = 1\n",
    "n = int(input(\"Introduceti un numarul natural: \"));\n",
    "for i in range(1, n+1):\n",
    "    fact = fact * i\n",
    "    s3 = s3 + fact\n",
    "print(\"Suma este \", s3)"
   ]
  },
  {
   "cell_type": "markdown",
   "metadata": {},
   "source": [
    "13. $s4=12+22+32+…+n2 $ <br>\n",
    "   $s5=1/2+2/3+3/4+…+n/(n+1)$"
   ]
  },
  {
   "cell_type": "code",
   "execution_count": 27,
   "metadata": {},
   "outputs": [
    {
     "name": "stdout",
     "output_type": "stream",
     "text": [
      "Introduceti un numar: 6\n",
      "Suma1 este  91\n",
      "Suma2 este  4.407\n"
     ]
    }
   ],
   "source": [
    "#13.  \n",
    "n = int(input(\"Introduceti un numar: \"))\n",
    "s4 = 0\n",
    "s5 = 0\n",
    "for i in range(1, n + 1):\n",
    "    s4 = s4 + pow(i, 2)\n",
    "    s5 += i / (i + 1)\n",
    "print(\"Suma1 este \", s4)\n",
    "print(\"Suma2 este \",round(s5, 3))"
   ]
  },
  {
   "cell_type": "markdown",
   "metadata": {},
   "source": [
    "14.1 $s6=2-3+4-5+…-99+100$"
   ]
  },
  {
   "cell_type": "code",
   "execution_count": 28,
   "metadata": {},
   "outputs": [
    {
     "name": "stdout",
     "output_type": "stream",
     "text": [
      "Suma este  51\n"
     ]
    }
   ],
   "source": [
    "#14.1  \n",
    "s6 = 0\n",
    "for i in range(2, 101):\n",
    "    if (i % 2 == 0):\n",
    "        s6 = s6 + i\n",
    "    else:\n",
    "        s6 = s6 - i\n",
    "print(\"Suma este \", s6)"
   ]
  },
  {
   "cell_type": "markdown",
   "metadata": {},
   "source": [
    " 14.2 $s7=1+2+22+23+24+…+2n$"
   ]
  },
  {
   "cell_type": "code",
   "execution_count": 29,
   "metadata": {},
   "outputs": [
    {
     "name": "stdout",
     "output_type": "stream",
     "text": [
      "Introduceti un numar: 9\n",
      "Suma este  511\n"
     ]
    }
   ],
   "source": [
    "#14.2 \n",
    "n = int(input(\"Introduceti un numar: \"))\n",
    "s7 = 0\n",
    "for i in range(0, n):\n",
    "    s7 = s7 + pow(2, i)\n",
    "print(\"Suma este \", s7)"
   ]
  },
  {
   "cell_type": "markdown",
   "metadata": {},
   "source": [
    "15. Se introduc succesiv numere nenule până la introducerea numărului 0. Să se afişeze suma tuturor numerelor introduse. \n",
    "Exemplu: Date de intrare 3 5 4 2 0 Date de ieşire 14. "
   ]
  },
  {
   "cell_type": "code",
   "execution_count": 30,
   "metadata": {},
   "outputs": [
    {
     "name": "stdout",
     "output_type": "stream",
     "text": [
      "Introduceti un numar: 4\n",
      "Introduceti un numar: 5\n",
      "Introduceti un numar: 1\n",
      "Introduceti un numar: 2\n",
      "Introduceti un numar: 0\n",
      "Suma numerelor nenule este  12\n"
     ]
    }
   ],
   "source": [
    "#15. \n",
    "n = 1\n",
    "suma = 0\n",
    "while (n != 0):\n",
    "    n = int(input(\"Introduceti un numar: \"))\n",
    "    suma = suma + n\n",
    "print(\"Suma numerelor nenule este \", suma)"
   ]
  },
  {
   "cell_type": "markdown",
   "metadata": {},
   "source": [
    "16. Se citesc numere de la tastatură până la introducerea unui număr impar divizibil cu 3. Să se afişeze suma tuturor numerelor pare introduse. Exemplu: Date de intrare 7 4 6 2 1 9 Date de ieşire 12. "
   ]
  },
  {
   "cell_type": "code",
   "execution_count": 31,
   "metadata": {},
   "outputs": [
    {
     "name": "stdout",
     "output_type": "stream",
     "text": [
      "Introduceti un numar: 4\n",
      "Introduceti un numar: 5\n",
      "Introduceti un numar: 6\n",
      "Suma numerelor pare este  10\n"
     ]
    }
   ],
   "source": [
    "#16.  \n",
    "n = 1\n",
    "n % 2 == 0\n",
    "suma = 0\n",
    "while (n % 3 != 0):\n",
    "    n = int(input(\"Introduceti un numar: \"))\n",
    "    if (n%2==0):\n",
    "        suma = suma + n\n",
    "print(\"Suma numerelor pare este \", suma)"
   ]
  },
  {
   "cell_type": "code",
   "execution_count": null,
   "metadata": {},
   "outputs": [],
   "source": []
  }
 ],
 "metadata": {
  "kernelspec": {
   "display_name": "Python 3",
   "language": "python",
   "name": "python3"
  },
  "language_info": {
   "codemirror_mode": {
    "name": "ipython",
    "version": 3
   },
   "file_extension": ".py",
   "mimetype": "text/x-python",
   "name": "python",
   "nbconvert_exporter": "python",
   "pygments_lexer": "ipython3",
   "version": "3.8.5"
  }
 },
 "nbformat": 4,
 "nbformat_minor": 4
}
